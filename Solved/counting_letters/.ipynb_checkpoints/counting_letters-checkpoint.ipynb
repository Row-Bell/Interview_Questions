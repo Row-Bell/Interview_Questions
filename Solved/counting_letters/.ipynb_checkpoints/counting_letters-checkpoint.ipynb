{
 "cells": [
  {
   "cell_type": "code",
   "execution_count": 10,
   "metadata": {},
   "outputs": [
    {
     "name": "stdin",
     "output_type": "stream",
     "text": [
      "Put your sentence here: What's up dude?!?!\n"
     ]
    },
    {
     "data": {
      "text/plain": [
       "{'W': 1, 'h': 1, 'a': 1, 't': 1, 's': 1, 'u': 2, 'p': 1, 'd': 2, 'e': 1}"
      ]
     },
     "execution_count": 10,
     "metadata": {},
     "output_type": "execute_result"
    }
   ],
   "source": [
    "#define a function called 'count_letters'\n",
    "def delete_not_letter(output):\n",
    "    if ' ' in output:\n",
    "        del output[' ']\n",
    "        \n",
    "    if \"'\" in output:\n",
    "        del output[\"'\"]\n",
    "    \n",
    "    if '.' in output:\n",
    "        del output[\".\"]\n",
    "        \n",
    "    if '?' in output:\n",
    "        del output[\"?\"]\n",
    "        \n",
    "    if '!' in output:\n",
    "        del output[\"!\"]\n",
    "        \n",
    "    return output\n",
    "\n",
    "\n",
    "def count_letters(sentence):\n",
    "    \n",
    "    #initialize output dictionary\n",
    "    output = {}\n",
    "    \n",
    "    #iterate through sentence, counting each letter\n",
    "    for letter in sentence:\n",
    "        #check if letter is in dictionary\n",
    "        if letter not in output:\n",
    "            output[letter] = 1\n",
    "        \n",
    "        #if letter IS in dictionary add to count\n",
    "        else:\n",
    "            output[letter] += 1\n",
    "    \n",
    "    #Drop space elements in dict\n",
    "    delete_not_letter(output)\n",
    "    \n",
    "    #Return dict to function\n",
    "    return output\n",
    "    \n",
    "#get the input - call for an input from user\n",
    "test = input(\"Put your sentence here:\")\n",
    "\n",
    "#call the function\n",
    "count_letters(test)"
   ]
  },
  {
   "cell_type": "code",
   "execution_count": null,
   "metadata": {},
   "outputs": [],
   "source": []
  }
 ],
 "metadata": {
  "kernelspec": {
   "display_name": "Python 3",
   "language": "python",
   "name": "python3"
  },
  "language_info": {
   "codemirror_mode": {
    "name": "ipython",
    "version": 3
   },
   "file_extension": ".py",
   "mimetype": "text/x-python",
   "name": "python",
   "nbconvert_exporter": "python",
   "pygments_lexer": "ipython3",
   "version": "3.7.9"
  }
 },
 "nbformat": 4,
 "nbformat_minor": 4
}
