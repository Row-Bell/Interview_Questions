{
 "cells": [
  {
   "cell_type": "code",
   "execution_count": 14,
   "metadata": {},
   "outputs": [
    {
     "name": "stdout",
     "output_type": "stream",
     "text": [
      "[90, 100, 9000]\n"
     ]
    }
   ],
   "source": [
    "list_of_numbers = [-100, 2, 42, 52,60,70,80,90, 100]\n",
    "\n",
    "#declare function\n",
    "def highest_prod_of_two(list_of_numbers):\n",
    "    \n",
    "    #declare variable\n",
    "    minimum = 0\n",
    "    maximum = 0\n",
    "    second_highest = 0\n",
    "    \n",
    "    #Find the positive min and max\n",
    "    for i in range(len(list_of_numbers)):            \n",
    "        if list_of_numbers[i]>0 and minimum == 0 and maximum == 0:\n",
    "            minimum = list_of_numbers[i]\n",
    "            maximum = list_of_numbers[i]\n",
    "\n",
    "        elif list_of_numbers[i]>0 and list_of_numbers[i]<minimum:\n",
    "            minimum = list_of_number[i]\n",
    "\n",
    "        elif list_of_numbers[i]>maximum:\n",
    "            maximum = list_of_number[i]\n",
    "            \n",
    "    #Find the second highest value in list aka the max, in between the min and max         \n",
    "    for i in range(len(list_of_numbers)):\n",
    "        if list_of_numbers[i]<maximum and list_of_numbers[i]>minimum and second_highest==0:\n",
    "            second_highest = list_of_numbers[i]\n",
    "        elif list_of_numbers[i]>second_highest and list_of_numbers[i] != maximum:\n",
    "            second_highest = list_of_numbers[i]\n",
    "\n",
    "    return [second_highest,maximum, second_highest*maximum]\n",
    "    \n",
    "print(highest_prod_of_two(list_of_numbers))"
   ]
  },
  {
   "cell_type": "code",
   "execution_count": null,
   "metadata": {},
   "outputs": [],
   "source": []
  }
 ],
 "metadata": {
  "kernelspec": {
   "display_name": "Python 3",
   "language": "python",
   "name": "python3"
  },
  "language_info": {
   "codemirror_mode": {
    "name": "ipython",
    "version": 3
   },
   "file_extension": ".py",
   "mimetype": "text/x-python",
   "name": "python",
   "nbconvert_exporter": "python",
   "pygments_lexer": "ipython3",
   "version": "3.7.9"
  }
 },
 "nbformat": 4,
 "nbformat_minor": 4
}
