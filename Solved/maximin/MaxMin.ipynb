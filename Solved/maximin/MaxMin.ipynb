{
 "cells": [
  {
   "cell_type": "code",
   "execution_count": 7,
   "metadata": {},
   "outputs": [
    {
     "name": "stdout",
     "output_type": "stream",
     "text": [
      "-200 100\n"
     ]
    }
   ],
   "source": [
    "#Declare list of numbers AND min/max variables\n",
    "numbers = [12, 33, 41, 2, 61, 32, 75, 43, 67, 100, 1, -200]\n",
    "minimum = 0\n",
    "maximum = 0\n",
    "\n",
    "#iterate through list\n",
    "for i in range(len(numbers)):\n",
    "    \n",
    "    #initialize the min and max values\n",
    "    if minimum == 0 and maximum == 0:\n",
    "        minimum = numbers[i]\n",
    "        maximum = numbers[i]\n",
    "    \n",
    "    #Find min\n",
    "    elif numbers[i] < minimum:\n",
    "        minimum = numbers[i]\n",
    "    \n",
    "    #Find max\n",
    "    elif numbers[i] > maximum:\n",
    "        maximum = numbers[i]\n",
    "\n",
    "#Print results\n",
    "print(minimum, maximum)"
   ]
  },
  {
   "cell_type": "code",
   "execution_count": null,
   "metadata": {},
   "outputs": [],
   "source": []
  }
 ],
 "metadata": {
  "kernelspec": {
   "display_name": "Python 3",
   "language": "python",
   "name": "python3"
  },
  "language_info": {
   "codemirror_mode": {
    "name": "ipython",
    "version": 3
   },
   "file_extension": ".py",
   "mimetype": "text/x-python",
   "name": "python",
   "nbconvert_exporter": "python",
   "pygments_lexer": "ipython3",
   "version": "3.7.9"
  }
 },
 "nbformat": 4,
 "nbformat_minor": 4
}
